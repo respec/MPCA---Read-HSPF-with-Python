{
 "cells": [
  {
   "cell_type": "markdown",
   "metadata": {},
   "source": [
    "## Reading a WDM and Writing to HDF5\n",
    "+ **Entire WDM is Read and Written to HDF5 File (our prefered database)**\n",
    "+ **You Can View the HDF5 file with HDFView or HDFCompass**\n"
   ]
  },
  {
   "cell_type": "code",
   "execution_count": 5,
   "metadata": {},
   "outputs": [],
   "source": [
    "from readWDM import read_WDM\n",
    "\n",
    "from versioninfo import versions\n",
    "versions(['numba', 'numpy', 'pandas', 'tables'])\n",
    "\n",
    "import matplotlib.pyplot as m_plt"
   ]
  },
  {
   "cell_type": "markdown",
   "metadata": {},
   "source": [
    "For convenience, this is a copy of the file readWDM:"
   ]
  },
  {
   "cell_type": "code",
   "execution_count": 6,
   "metadata": {},
   "outputs": [],
   "source": [
    "import numpy as np\n",
    "import pandas as pd\n",
    "from numba import jit\n",
    "\n",
    "# look up attributes NAME, data type (Integer; Real; String) and data length by attribute number\n",
    "attrinfo = {1:('TSTYPE','S',4),     2:('STAID','S',16),    11:('DAREA','R',1),\n",
    "           17:('TCODE','I',1),     27:('TSBYR','I',1),     28:('TSBMO','I',1),\n",
    "           29:('TSBDY','I',1),     30:('TSBHR','I',1),     32:('TFILL', 'R',1),\n",
    "           33:('TSSTEP','I',1),    34:('TGROUP','I',1),    45:('STNAM','S',48),\n",
    "           83:('COMPFG','I',1),    84:('TSFORM','I',1),    85:('VBTIME','I',1), \n",
    "          444:('A444','S',12),    443:('A443','S',12),     22:('DCODE','I',1),        \n",
    "           10:('DESCRP','S', 80),   7:('ELEV','R',1),       8:('LATDEG','R',1),\n",
    "            9:('LNGDEG','R',1),   288:('SCENARIO','S',8), \n",
    "          289:('CONSTITUENT','S',8), 290:('LOCATION','S',8)}\n",
    "\n",
    "freq = {7:'100YS', 6:'YS', 5:'MS', 4:'D', 3:'H', 2:'min', 1:'S'}   # pandas date_range() frequency by TCODE, TGROUP\n",
    "\n",
    "def read_WDM(wdmfile, hdffile):\n",
    "    iarray = np.fromfile(wdmfile, dtype=np.int32)\n",
    "    farray = np.fromfile(wdmfile, dtype=np.float32)\n",
    "\n",
    "    if iarray[0] != -998:\n",
    "        print('Not a WDM file, magic number is not -990. Stopping!')\n",
    "        return\n",
    "    nrecords    = iarray[28]    # first record is File Definition Record\n",
    "    ntimeseries = iarray[31]\n",
    "    \n",
    "    dsnlist = []\n",
    "    for index in range(512, nrecords * 512, 512):\n",
    "        if not (iarray[index]==0 and iarray[index+1]==0 and iarray[index+2]==0 \n",
    "         and iarray[index+3]) and iarray[index+5]==1:\n",
    "            dsnlist.append(index)\n",
    "    if len(dsnlist) != ntimeseries:\n",
    "        print('PROGRAM ERROR, wrong number of DSN records found')\n",
    "    \n",
    "    with pd.HDFStore(hdffile) as store:\n",
    "        for index in dsnlist:\n",
    "            # get layout information for TimeSeries Dataset frame\n",
    "            dsn   = iarray[index+4]\n",
    "            psa   = iarray[index+9]\n",
    "            if psa > 0:\n",
    "                sacnt = iarray[index+psa-1]\n",
    "            pdat  = iarray[index+10]\n",
    "            pdatv = iarray[index+11]\n",
    "            frepos = iarray[index+pdat]\n",
    "\n",
    "            # get attributes\n",
    "            dattr = {'TSBDY':1, 'TSBHR':1, 'TSBMO':1, 'TSBYR':1900, 'TFILL':-999.}   # preset defaults\n",
    "            for i in range(psa+1, psa+1 + 2*sacnt, 2):\n",
    "                id = iarray[index + i]\n",
    "                ptr = iarray[index + i + 1] - 1 + index\n",
    "                if id not in attrinfo:\n",
    "                    print('PROGRAM ERROR: ATTRIBUTE INDEX not found', id, 'Attribute pointer', iarray[index + i+1])\n",
    "                    continue\n",
    "\n",
    "                name, atype, length = attrinfo[id]\n",
    "                if atype == 'I':\n",
    "                    dattr[name] = iarray[ptr]\n",
    "                elif atype == 'R':\n",
    "                    dattr[name] = farray[ptr]\n",
    "                else:\n",
    "                    dattr[name] = ''.join([itostr(iarray[k]) for k in range(ptr, ptr + length//4)]).strip()  \n",
    "\n",
    "            # Get timeseries timebase data\n",
    "            records = []\n",
    "            for i in range(pdat+1, pdatv-1):\n",
    "                a = iarray[index+i]\n",
    "                if a:\n",
    "                    records.append(splitposition(a))\n",
    "            if len(records) == 0:\n",
    "                continue   # WDM preallocated, but nothing saved here yet\n",
    "\n",
    "            srec, soffset = records[0]\n",
    "            start = splitdate(iarray[srec*512 + soffset])\n",
    "\n",
    "            sprec, spoffset = splitposition(frepos)\n",
    "            finalindex = sprec * 512 + spoffset\n",
    "\n",
    "            # calculate number of data points in each group, tindex is final index for storage\n",
    "            tgroup = dattr['TGROUP']\n",
    "            tstep  = dattr['TSSTEP']\n",
    "            tcode  = dattr['TCODE']\n",
    "            cindex = pd.date_range(start=start, periods=len(records)+1, freq=freq[tgroup])\n",
    "            tindex = pd.date_range(start=start, end=cindex[-1], freq=str(tstep) + freq[tcode])\n",
    "            counts = np.diff(np.searchsorted(tindex, cindex))\n",
    "                 \n",
    "            ## Get timeseries data\n",
    "            floats = np.zeros(sum(counts),  dtype=np.float32)   \n",
    "            findex = 0\n",
    "            for (rec,offset),count in zip(records, counts):\n",
    "                findex = getfloats(iarray, farray, floats, findex, rec, offset, count, finalindex)\n",
    "\n",
    "            ## Write to HDF5 file\n",
    "            series = pd.Series(floats[:findex], index=tindex[:findex])\n",
    "            dsname = 'TIMESERIES/TS' + str(dsn)\n",
    "        \n",
    "            store.put(dsname, series)\n",
    "            dattr['start_date']  = str(tindex[0])\n",
    "            dattr['stop_date']   = str(tindex[-1])\n",
    "            dattr['freq']        = str(tstep) + freq[tcode]\n",
    "            dattr['dsn']         = dsn\n",
    "            store.get_storer(dsname).attrs.metadata = dattr\n",
    "            \n",
    "            \n",
    "def todatetime(y=1900, m=1, d=1, h=0):\n",
    "    '''takes yr,mo,dy,hr information then returns its datetime64'''\n",
    "    return pd.datetime(y,m,d,23) + pd.Timedelta(1,'h') if h == 24 else pd.datetime(y, m, d, h)\n",
    "    \n",
    "def splitdate(x):\n",
    "    '''splits WDM int32 DATWRD into year, month, day, hour -> then returns its datetime64'''  \n",
    "    return todatetime(x >> 14, x >> 10 & 0xF, x >> 5 & 0x1F, x & 0x1F) # args: year, month, day, hour\n",
    "\n",
    "def splitcontrol(x):\n",
    "    ''' splits int32 into (qual, compcode, units, tstep, nvalues)'''\n",
    "    return(x & 0x1F, x >> 5 & 0x3, x >> 7 & 0x7, x >> 10 & 0x3F, x >> 16)\n",
    "\n",
    "def splitposition(x):\n",
    "    ''' splits int32 into (record, offset), converting to Pyton zero based indexing'''\n",
    "    return((x>>9) - 1, (x&0x1FF) - 1)\n",
    "\n",
    "def itostr(i):\n",
    "    return chr(i & 0xFF) + chr(i>>8 & 0xFF) + chr(i>>16 & 0xFF) + chr(i>>24 & 0xFF) \n",
    "\n",
    "@jit(nopython=True, cache=True)\n",
    "def getfloats(iarray, farray, floats, findex, rec, offset, count, finalindex):\n",
    "    index = rec * 512 + offset + 1\n",
    "    stop = (rec + 1) * 512\n",
    "    cntr = 0\n",
    "    while cntr < count and findex < len(floats):\n",
    "        if index >= stop:\n",
    "            rec = iarray[rec * 512 + 3] - 1  # 3 is forward data pointer, -1 is python indexing\n",
    "            index = rec * 512 + 4            # 4 is index of start of new data\n",
    "            stop =  (rec+1) * 512\n",
    "            \n",
    "        x = iarray[index]                    # control word, don't need most of it here\n",
    "        nval = x >> 16\n",
    "        \n",
    "        index += 1\n",
    "        if x >> 5 & 0x3:    # comp from control word, x\n",
    "            for k in range(nval):\n",
    "                if findex >= len(floats):\n",
    "                    return findex\n",
    "                floats[findex] = farray[index]\n",
    "                findex += 1\n",
    "            index += 1            \n",
    "        else:\n",
    "            for k in range(nval):\n",
    "                if findex >= len(floats):\n",
    "                    return findex\n",
    "                floats[findex] = farray[index+k]\n",
    "                findex += 1\n",
    "            index += nval\n",
    "        cntr += nval     \n",
    "    return findex"
   ]
  },
  {
   "cell_type": "markdown",
   "metadata": {},
   "source": [
    "#### Run it"
   ]
  },
  {
   "cell_type": "code",
   "execution_count": 7,
   "metadata": {},
   "outputs": [],
   "source": [
    "wdmfile = 'test10.wdm'\n",
    "hdffile = 'test10.h5'"
   ]
  },
  {
   "cell_type": "code",
   "execution_count": 8,
   "metadata": {},
   "outputs": [],
   "source": [
    "read_WDM(wdmfile, hdffile)"
   ]
  },
  {
   "cell_type": "markdown",
   "metadata": {},
   "source": [
    "Check that metadata was extracted and placed with the corresponding data in the HDF5 file."
   ]
  },
  {
   "cell_type": "code",
   "execution_count": 9,
   "metadata": {},
   "outputs": [
    {
     "name": "stdout",
     "output_type": "stream",
     "text": [
      "19 {'TSBDY': 1, 'TSBHR': 1, 'TSBMO': 1, 'TSBYR': 1975, 'TFILL': -999.0, 'TSTYPE': 'FLOW', 'STAID': 'DAILY FLOW', 'STNAM': 'IOWA RIVER MARSHALLTOWN', 'TCODE': 4, 'TGROUP': 6, 'TSFORM': 1, 'VBTIME': 1, 'COMPFG': 1, 'TSSTEP': 1, 'A444': '200507251408', 'start_date': '1976-01-01 00:00:00', 'stop_date': '1977-01-01 00:00:00', 'freq': '1D', 'dsn': 113}\n"
     ]
    }
   ],
   "source": [
    "with pd.HDFStore(hdffile) as store:\n",
    "    d = store.get_storer('TIMESERIES/TS113').attrs.metadata\n",
    "    \n",
    "print(len(d), d)"
   ]
  },
  {
   "cell_type": "markdown",
   "metadata": {},
   "source": [
    "### TESTING\n",
    "Read a Selected Timeseries from HDF5"
   ]
  },
  {
   "cell_type": "code",
   "execution_count": 10,
   "metadata": {},
   "outputs": [
    {
     "data": {
      "text/plain": [
       "count     366.000000\n",
       "mean      599.021851\n",
       "std      1049.336792\n",
       "min        18.000000\n",
       "25%        70.000000\n",
       "50%       120.000000\n",
       "75%       806.000000\n",
       "max      7920.000000\n",
       "dtype: float64"
      ]
     },
     "execution_count": 10,
     "metadata": {},
     "output_type": "execute_result"
    }
   ],
   "source": [
    "df1 = pd.read_hdf(hdffile, 'TIMESERIES/TS113')\n",
    "df1.describe()"
   ]
  },
  {
   "cell_type": "code",
   "execution_count": 11,
   "metadata": {},
   "outputs": [
    {
     "data": {
      "text/plain": [
       "Text(0.5, 1.0, 'Flow at RCHRES ###')"
      ]
     },
     "execution_count": 11,
     "metadata": {},
     "output_type": "execute_result"
    },
    {
     "data": {
      "image/png": "[encoded data removed]",
      "text/plain": [
       "<Figure size 1152x576 with 1 Axes>"
      ]
     },
     "metadata": {
      "needs_background": "light"
     },
     "output_type": "display_data"
    }
   ],
   "source": [
    "m_plt.figure(figsize=(16,8))\n",
    "m_plt.plot(df1.resample('1D').min())\n",
    "m_plt.title('Flow at RCHRES ###')"
   ]
  },
  {
   "cell_type": "code",
   "execution_count": null,
   "metadata": {},
   "outputs": [],
   "source": []
  }
 ],
 "metadata": {
  "kernelspec": {
   "display_name": "Python 3",
   "language": "python",
   "name": "python3"
  },
  "language_info": {
   "codemirror_mode": {
    "name": "ipython",
    "version": 3
   },
   "file_extension": ".py",
   "mimetype": "text/x-python",
   "name": "python",
   "nbconvert_exporter": "python",
   "pygments_lexer": "ipython3",
   "version": "3.7.1"
  }
 },
 "nbformat": 4,
 "nbformat_minor": 4
}
